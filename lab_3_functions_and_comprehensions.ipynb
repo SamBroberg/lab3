{
  "nbformat": 4,
  "nbformat_minor": 0,
  "metadata": {
    "anaconda-cloud": {},
    "kernelspec": {
      "display_name": "Python 3",
      "language": "python",
      "name": "python3"
    },
    "language_info": {
      "codemirror_mode": {
        "name": "ipython",
        "version": 3
      },
      "file_extension": ".py",
      "mimetype": "text/x-python",
      "name": "python",
      "nbconvert_exporter": "python",
      "pygments_lexer": "ipython3",
      "version": "3.7.2"
    },
    "colab": {
      "name": "lab_3_functions_and_comprehensions.ipynb",
      "provenance": [],
      "include_colab_link": true
    }
  },
  "cells": [
    {
      "cell_type": "markdown",
      "metadata": {
        "id": "view-in-github",
        "colab_type": "text"
      },
      "source": [
        "<a href=\"https://colab.research.google.com/github/SamBroberg/lab3/blob/master/lab_3_functions_and_comprehensions.ipynb\" target=\"_parent\"><img src=\"https://colab.research.google.com/assets/colab-badge.svg\" alt=\"Open In Colab\"/></a>"
      ]
    },
    {
      "cell_type": "markdown",
      "metadata": {
        "id": "GRka0LkFtync",
        "colab_type": "text"
      },
      "source": [
        "# Lab 3 - Function and List Comprehension Exercises\n",
        "\n",
        "Please complete each exercise and submit your work on D2L.\n",
        "\n",
        "**Rules:**\n",
        "\n",
        "1. All functions should be defined with `lambda` (only test functions should use `def` statements.)\n",
        "2. Each function should be accompanied by test function that covers normal and edge cases."
      ]
    },
    {
      "cell_type": "markdown",
      "metadata": {
        "id": "xgham030tyng",
        "colab_type": "text"
      },
      "source": [
        "### <font color='red'> Exercise 1 </font>\n",
        "\n",
        "Write a function `sum_of_squares` that computes the sum of the squares of the numbers in the input list. *Use a helper function in your solution*\n",
        "\n",
        "\n",
        "**Example** `sum_of_squares([2, 3, 4]) === 4 + 9 + 16`  **HINT:** Use a comprehension to square the values and `sum` to compute the sum."
      ]
    },
    {
      "cell_type": "code",
      "metadata": {
        "id": "xe9OBAUptyni",
        "colab_type": "code",
        "colab": {}
      },
      "source": [
        "sum_of_squares = lambda L: sum([num**2 for num in L])"
      ],
      "execution_count": 2,
      "outputs": []
    },
    {
      "cell_type": "code",
      "metadata": {
        "id": "TaioykXRusXw",
        "colab_type": "code",
        "colab": {
          "base_uri": "https://localhost:8080/",
          "height": 34
        },
        "outputId": "72713d81-78d0-41e3-f9ed-a56c9405e70f"
      },
      "source": [
        "sum_of_squares([3,4,5])"
      ],
      "execution_count": 6,
      "outputs": [
        {
          "output_type": "execute_result",
          "data": {
            "text/plain": [
              "50"
            ]
          },
          "metadata": {
            "tags": []
          },
          "execution_count": 6
        }
      ]
    },
    {
      "cell_type": "code",
      "metadata": {
        "id": "gQljepnWu5KI",
        "colab_type": "code",
        "colab": {}
      },
      "source": [
        "def test_sum_of_squares():\n",
        "    assert sum_of_squares([3,4,5]) == 50\n",
        "    assert sum_of_squares([2,3,4]) == 29\n",
        "    assert sum_of_squares([1,1,1,]) == 3\n",
        "test_sum_of_squares()"
      ],
      "execution_count": 15,
      "outputs": []
    },
    {
      "cell_type": "markdown",
      "metadata": {
        "id": "RctsXGBKtyns",
        "colab_type": "text"
      },
      "source": [
        "### <font color=\"red\"> Exercise 2 </font>\n",
        "\n",
        "Write a function called `sum_even` that sums up all the even numbers in a list.  Include helper functions in your solution.\n",
        "\n",
        "**Example** `sum_even([1,2,3,4]) == 6`\n",
        "\n",
        "**Hint** You need a filter here."
      ]
    },
    {
      "cell_type": "code",
      "metadata": {
        "id": "IT7MgvNFtynt",
        "colab_type": "code",
        "colab": {}
      },
      "source": [
        "is_even = lambda num: num % 2 == 0"
      ],
      "execution_count": 16,
      "outputs": []
    },
    {
      "cell_type": "code",
      "metadata": {
        "id": "zIQiEgx6w8s0",
        "colab_type": "code",
        "colab": {}
      },
      "source": [
        "sum_even = lambda L: sum([num for num in L if is_even(num)])"
      ],
      "execution_count": 17,
      "outputs": []
    },
    {
      "cell_type": "code",
      "metadata": {
        "id": "2TybXIcFxUhT",
        "colab_type": "code",
        "colab": {
          "base_uri": "https://localhost:8080/",
          "height": 34
        },
        "outputId": "3fbc5f2a-334b-47fe-fd5c-f9bf3dae4f61"
      },
      "source": [
        "sum_even([1,2,3,4,5])"
      ],
      "execution_count": 18,
      "outputs": [
        {
          "output_type": "execute_result",
          "data": {
            "text/plain": [
              "6"
            ]
          },
          "metadata": {
            "tags": []
          },
          "execution_count": 18
        }
      ]
    },
    {
      "cell_type": "markdown",
      "metadata": {
        "id": "NUkU-RjPtyn3",
        "colab_type": "text"
      },
      "source": [
        "### <font color=\"red\"> Exercise 3 </font>\n",
        "\n",
        "Write a function called `freq` that takes a value `a` and a list `L` as arguments and returns the number of times `a` occurs in `L`.\n",
        "\n",
        "**Example** `freq(1,[1,2,1,3,4]) == 2`\n",
        "\n",
        "**Hint** Use a filter in your comprehension and the `len` function"
      ]
    },
    {
      "cell_type": "code",
      "metadata": {
        "id": "lcPkBKzOtyn5",
        "colab_type": "code",
        "colab": {}
      },
      "source": [
        ""
      ],
      "execution_count": null,
      "outputs": []
    },
    {
      "cell_type": "markdown",
      "metadata": {
        "id": "vZyTJExVtyoD",
        "colab_type": "text"
      },
      "source": [
        "### <font color=\"red\"> Exercise 4 </font>\n",
        "\n",
        "Write a function called `between` that takes value `a`, `b` and a list `L` as arguments and returns `True` when all of the elements of `L` that strictly between `a` and `b`.\n",
        "\n",
        "**Example** `between(0, 5,[1,2,1,3,4]) == True`\n",
        "\n",
        "**Hint** Use a boolean expresion and the `all` function."
      ]
    },
    {
      "cell_type": "code",
      "metadata": {
        "id": "wU5j1J7HtyoF",
        "colab_type": "code",
        "colab": {}
      },
      "source": [
        ""
      ],
      "execution_count": null,
      "outputs": []
    }
  ]
}