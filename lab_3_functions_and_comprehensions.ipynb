{
  "nbformat": 4,
  "nbformat_minor": 0,
  "metadata": {
    "anaconda-cloud": {},
    "kernelspec": {
      "display_name": "Python 3",
      "language": "python",
      "name": "python3"
    },
    "language_info": {
      "codemirror_mode": {
        "name": "ipython",
        "version": 3
      },
      "file_extension": ".py",
      "mimetype": "text/x-python",
      "name": "python",
      "nbconvert_exporter": "python",
      "pygments_lexer": "ipython3",
      "version": "3.7.2"
    },
    "colab": {
      "name": "lab_3_functions_and_comprehensions.ipynb",
      "provenance": [],
      "include_colab_link": true
    }
  },
  "cells": [
    {
      "cell_type": "markdown",
      "metadata": {
        "id": "view-in-github",
        "colab_type": "text"
      },
      "source": [
        "<a href=\"https://colab.research.google.com/github/SamBroberg/lab3/blob/master/lab_3_functions_and_comprehensions.ipynb\" target=\"_parent\"><img src=\"https://colab.research.google.com/assets/colab-badge.svg\" alt=\"Open In Colab\"/></a>"
      ]
    },
    {
      "cell_type": "markdown",
      "metadata": {
        "id": "GRka0LkFtync",
        "colab_type": "text"
      },
      "source": [
        "# Lab 3 - Function and List Comprehension Exercises\n",
        "\n",
        "Please complete each exercise and submit your work on D2L.\n",
        "\n",
        "**Rules:**\n",
        "\n",
        "1. All functions should be defined with `lambda` (only test functions should use `def` statements.)\n",
        "2. Each function should be accompanied by test function that covers normal and edge cases."
      ]
    },
    {
      "cell_type": "markdown",
      "metadata": {
        "id": "xgham030tyng",
        "colab_type": "text"
      },
      "source": [
        "### <font color='red'> Exercise 1 </font>\n",
        "\n",
        "Write a function `sum_of_squares` that computes the sum of the squares of the numbers in the input list. *Use a helper function in your solution*\n",
        "\n",
        "\n",
        "**Example** `sum_of_squares([2, 3, 4]) === 4 + 9 + 16`  **HINT:** Use a comprehension to square the values and `sum` to compute the sum."
      ]
    },
    {
      "cell_type": "code",
      "metadata": {
        "id": "xe9OBAUptyni",
        "colab_type": "code",
        "colab": {}
      },
      "source": [
        "sum_of_squares = lambda L: sum([num**2 for num in L])"
      ],
      "execution_count": null,
      "outputs": []
    },
    {
      "cell_type": "code",
      "metadata": {
        "id": "TaioykXRusXw",
        "colab_type": "code",
        "colab": {
          "base_uri": "https://localhost:8080/",
          "height": 34
        },
        "outputId": "72713d81-78d0-41e3-f9ed-a56c9405e70f"
      },
      "source": [
        "sum_of_squares([3,4,5])"
      ],
      "execution_count": null,
      "outputs": [
        {
          "output_type": "execute_result",
          "data": {
            "text/plain": [
              "50"
            ]
          },
          "metadata": {
            "tags": []
          },
          "execution_count": 6
        }
      ]
    },
    {
      "cell_type": "code",
      "metadata": {
        "id": "gQljepnWu5KI",
        "colab_type": "code",
        "colab": {}
      },
      "source": [
        "def test_sum_of_squares():\n",
        "    assert sum_of_squares([3,4,5]) == 50\n",
        "    assert sum_of_squares([2,3,4]) == 29\n",
        "    assert sum_of_squares([1,1,1,]) == 3\n",
        "test_sum_of_squares()"
      ],
      "execution_count": null,
      "outputs": []
    },
    {
      "cell_type": "markdown",
      "metadata": {
        "id": "RctsXGBKtyns",
        "colab_type": "text"
      },
      "source": [
        "### <font color=\"red\"> Exercise 2 </font>\n",
        "\n",
        "Write a function called `sum_even` that sums up all the even numbers in a list.  Include helper functions in your solution.\n",
        "\n",
        "**Example** `sum_even([1,2,3,4]) == 6`\n",
        "\n",
        "**Hint** You need a filter here."
      ]
    },
    {
      "cell_type": "code",
      "metadata": {
        "id": "IT7MgvNFtynt",
        "colab_type": "code",
        "colab": {}
      },
      "source": [
        "is_even = lambda num: num % 2 == 0"
      ],
      "execution_count": 44,
      "outputs": []
    },
    {
      "cell_type": "code",
      "metadata": {
        "id": "zIQiEgx6w8s0",
        "colab_type": "code",
        "colab": {}
      },
      "source": [
        "sum_even = lambda L: sum([num for num in L if is_even(num)])"
      ],
      "execution_count": 45,
      "outputs": []
    },
    {
      "cell_type": "code",
      "metadata": {
        "id": "2TybXIcFxUhT",
        "colab_type": "code",
        "colab": {
          "base_uri": "https://localhost:8080/",
          "height": 34
        },
        "outputId": "8d6fe375-8f2f-4827-8ab8-ad2b4a3f2be5"
      },
      "source": [
        "sum_even([1,2,3,4,5])"
      ],
      "execution_count": 47,
      "outputs": [
        {
          "output_type": "execute_result",
          "data": {
            "text/plain": [
              "6"
            ]
          },
          "metadata": {
            "tags": []
          },
          "execution_count": 47
        }
      ]
    },
    {
      "cell_type": "code",
      "metadata": {
        "id": "9JVsCuY8cwKD",
        "colab_type": "code",
        "colab": {}
      },
      "source": [
        "def test_sum_even():\n",
        "  assert sum_even([1,2,3,4]) == 6\n",
        "  assert sum_even([1,2,2,3,4,4]) == 12\n",
        "  assert sum_even([2,4,6,8,10]) ==30\n",
        "test_sum_even() "
      ],
      "execution_count": 49,
      "outputs": []
    },
    {
      "cell_type": "markdown",
      "metadata": {
        "id": "NUkU-RjPtyn3",
        "colab_type": "text"
      },
      "source": [
        "### <font color=\"red\"> Exercise 3 </font>\n",
        "\n",
        "Write a function called `freq` that takes a value `a` and a list `L` as arguments and returns the number of times `a` occurs in `L`.\n",
        "\n",
        "**Example** `freq(1,[1,2,1,3,4]) == 2`\n",
        "\n",
        "**Hint** Use a filter in your comprehension and the `len` function"
      ]
    },
    {
      "cell_type": "code",
      "metadata": {
        "id": "lcPkBKzOtyn5",
        "colab_type": "code",
        "colab": {}
      },
      "source": [
        "freq = lambda num, L: len([number for number in L if number==num])"
      ],
      "execution_count": 16,
      "outputs": []
    },
    {
      "cell_type": "code",
      "metadata": {
        "id": "tOzkT-01YQcO",
        "colab_type": "code",
        "colab": {
          "base_uri": "https://localhost:8080/",
          "height": 34
        },
        "outputId": "ece5aaab-ba6b-497e-fab0-fbde42522cb6"
      },
      "source": [
        "freq(1,[1,2,1,3,4])"
      ],
      "execution_count": 41,
      "outputs": [
        {
          "output_type": "execute_result",
          "data": {
            "text/plain": [
              "2"
            ]
          },
          "metadata": {
            "tags": []
          },
          "execution_count": 41
        }
      ]
    },
    {
      "cell_type": "code",
      "metadata": {
        "id": "fXuO7430byOF",
        "colab_type": "code",
        "colab": {}
      },
      "source": [
        "def test_freq():\n",
        "  assert freq(1,[1,2,1,3,4]) == 2\n",
        "  assert freq(1,[1,1,1,1]) == 4\n",
        "  assert freq(2,[1,2,3,4,2])==2\n",
        "test_freq()"
      ],
      "execution_count": 42,
      "outputs": []
    },
    {
      "cell_type": "markdown",
      "metadata": {
        "id": "vZyTJExVtyoD",
        "colab_type": "text"
      },
      "source": [
        "### <font color=\"red\"> Exercise 4 </font>\n",
        "\n",
        "Write a function called `between` that takes value `a`, `b` and a list `L` as arguments and returns `True` when all of the elements of `L` that strictly between `a` and `b`.\n",
        "\n",
        "**Example** `between(0, 5,[1,2,1,3,4]) == True`\n",
        "\n",
        "**Hint** Use a boolean expresion and the `all` function."
      ]
    },
    {
      "cell_type": "code",
      "metadata": {
        "id": "0F0ppbuZZZzD",
        "colab_type": "code",
        "colab": {
          "base_uri": "https://localhost:8080/",
          "height": 34
        },
        "outputId": "7f3bfe44-8d49-493a-d945-9cc30945c4c2"
      },
      "source": [
        "list(range(0,5))"
      ],
      "execution_count": 19,
      "outputs": [
        {
          "output_type": "execute_result",
          "data": {
            "text/plain": [
              "[0, 1, 2, 3, 4]"
            ]
          },
          "metadata": {
            "tags": []
          },
          "execution_count": 19
        }
      ]
    },
    {
      "cell_type": "code",
      "metadata": {
        "id": "wU5j1J7HtyoF",
        "colab_type": "code",
        "colab": {}
      },
      "source": [
        "between = lambda a,b,L: all([num in range(a,b) for num in L])"
      ],
      "execution_count": 36,
      "outputs": []
    },
    {
      "cell_type": "code",
      "metadata": {
        "id": "CoVvZhOBZIcw",
        "colab_type": "code",
        "colab": {
          "base_uri": "https://localhost:8080/",
          "height": 34
        },
        "outputId": "b925d8c6-2e84-47f8-afab-151026ef6f4d"
      },
      "source": [
        "between(0,5,[1,2,1,3,4])"
      ],
      "execution_count": 38,
      "outputs": [
        {
          "output_type": "execute_result",
          "data": {
            "text/plain": [
              "True"
            ]
          },
          "metadata": {
            "tags": []
          },
          "execution_count": 38
        }
      ]
    },
    {
      "cell_type": "code",
      "metadata": {
        "id": "H7hZeELlaipx",
        "colab_type": "code",
        "colab": {
          "base_uri": "https://localhost:8080/",
          "height": 34
        },
        "outputId": "289f635d-83d6-438d-ef18-55e6ab23b343"
      },
      "source": [
        "between(0,5,[1,2,6,4,3])"
      ],
      "execution_count": 39,
      "outputs": [
        {
          "output_type": "execute_result",
          "data": {
            "text/plain": [
              "False"
            ]
          },
          "metadata": {
            "tags": []
          },
          "execution_count": 39
        }
      ]
    },
    {
      "cell_type": "code",
      "metadata": {
        "id": "2L9diWuAa11S",
        "colab_type": "code",
        "colab": {}
      },
      "source": [
        "def test_between():\n",
        "  assert between(0,5,[1,2,1,3,4]) ==True\n",
        "  assert between(0,10,[1,3,5,8,9,2])==True\n",
        "  assert between(0,0,[0,1]) == False\n",
        "test_between()"
      ],
      "execution_count": 40,
      "outputs": []
    }
  ]
}